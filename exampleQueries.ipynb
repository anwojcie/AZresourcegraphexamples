{
 "cells": [
  {
   "cell_type": "code",
   "execution_count": null,
   "metadata": {
    "vscode": {
     "languageId": "kusto"
    }
   },
   "outputs": [],
   "source": [
    "Resources\n",
    "| where type == 'microsoft.keyvault/vaults'\n",
    "| project name, type, location, subscriptionId, resourceGroup\n",
    "| join (ResourceContainers | where type=='microsoft.resources/subscriptions' | project SubName=name, subscriptionId) on subscriptionId\n",
    "| project type, name, location, resourceGroup, SubName\n",
    "| limit 1"
   ]
  },
  {
   "cell_type": "code",
   "execution_count": null,
   "metadata": {
    "vscode": {
     "languageId": "kusto"
    }
   },
   "outputs": [],
   "source": [
    "resources\n",
    "| mv-expand ipConfigurations=properties.ipConfigurations\n",
    "| mv-expand ip=ipConfigurations.properties.privateIPAddress\n",
    "| where isnotnull(ip)\n",
    "| extend virtualMachineID=tostring(properties.virtualMachine.id)\n",
    "| join kind=leftouter (\n",
    "    resources\n",
    "    | where type =~ 'microsoft.compute/virtualmachines'\n",
    "    | project virtualMachineID = id,VM_Name=name,VM_resourceGroup=resourceGroup,VM_subscriptionId=subscriptionId)\n",
    "    on virtualMachineID\n",
    "| project-away virtualMachineID1\n",
    "| join kind=leftouter(\n",
    "    resources\n",
    "    | project managedBy = id, PEndpoint_Name=name,PEndpoint_resourceGroup=resourceGroup,PEndpoint_subscriptionId=subscriptionId)\n",
    "    on managedBy\n",
    "| project-away managedBy1\n",
    "| project-away tenantId,kind\n",
    "//| project ['id'],type,virtualMachine,properties.ipConfigurations,ip"
   ]
  }
 ],
 "metadata": {
  "language_info": {
   "name": "python"
  }
 },
 "nbformat": 4,
 "nbformat_minor": 2
}
