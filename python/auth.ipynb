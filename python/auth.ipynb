{
 "cells": [
  {
   "cell_type": "markdown",
   "metadata": {},
   "source": [
    "# Resource Graph\n",
    "[azure-cli-core](https://pypi.org/project/azure-cli-core/) \\\n",
    "[azure.identity](https://pypi.org/project/azure-identity/) \\\n",
    "[azure-mgmt-resource](https://pypi.org/project/azure-mgmt-resource/) \\\n",
    "[azure-mgmt-resourcegraph](https://pypi.org/project/azure-mgmt-resourcegraph/) \\\n",
    "[Resource graph docs](https://learn.microsoft.com/en-us/azure/governance/resource-graph/) \\\n",
    "[resource-graph/samples](https://learn.microsoft.com/en-us/azure/governance/resource-graph/samples/starter?tabs=azure-cli) \\"
   ]
  },
  {
   "cell_type": "code",
   "execution_count": null,
   "metadata": {
    "vscode": {
     "languageId": "powershell"
    }
   },
   "outputs": [],
   "source": [
    "# Add the Resource Graph library for Python\n",
    "pip install azure-mgmt-resourcegraph\n",
    "\n",
    "# Add the Resources library for Python\n",
    "pip install azure-mgmt-resource\n",
    "\n",
    "# Add the CLI Core library for Python for authentication (development only!)\n",
    "pip install azure-cli-core\n",
    "\n",
    "# Add the Azure identity library for Python\n",
    "pip install azure.identity"
   ]
  },
  {
   "cell_type": "code",
   "execution_count": null,
   "metadata": {
    "vscode": {
     "languageId": "powershell"
    }
   },
   "outputs": [],
   "source": [
    "# Check each installed library\n",
    "pip show azure-mgmt-resourcegraph azure-mgmt-resource azure-cli-core azure.identity"
   ]
  },
  {
   "cell_type": "code",
   "execution_count": null,
   "metadata": {},
   "outputs": [],
   "source": [
    "from azure.identity import DefaultAzureCredential \n",
    "from azure.identity import EnvironmentCredential \n",
    "from azure.identity import ClientSecretCredential \n",
    "\n",
    "tenant_id = \"\"\n",
    "client_id = \"\"\n",
    "client_secret = \"\"\n",
    "\n",
    "def getCreds ():\n",
    "    # https://pypi.org/project/azure-identity/#:~:text=library%27s%20credential%20classes.-,DefaultAzureCredential,-DefaultAzureCredential%20is%20appropriate\n",
    "    \n",
    "    # recommended!\n",
    "    # credential = DefaultAzureCredential()\n",
    "    \n",
    "    #For Demo purpose...\n",
    "    # credential = EnvironmentCredential()\n",
    "    credential = ClientSecretCredential(tenant_id, client_id, client_secret)\n",
    "    \n",
    "    return credential"
   ]
  },
  {
   "cell_type": "code",
   "execution_count": null,
   "metadata": {},
   "outputs": [],
   "source": [
    "from azure.mgmt.resource import SubscriptionClient\n",
    "\n",
    "def getSubsList(credential):\n",
    "    subsClient = SubscriptionClient(credential)\n",
    "    \n",
    "    subsRaw = []\n",
    "    for sub in subsClient.subscriptions.list():\n",
    "        subsRaw.append(sub.as_dict())\n",
    "\n",
    "    subsList = []\n",
    "    for sub in subsRaw:\n",
    "        subsList.append(sub.get('subscription_id'))\n",
    "    return subsList"
   ]
  },
  {
   "cell_type": "code",
   "execution_count": null,
   "metadata": {},
   "outputs": [],
   "source": [
    "# Import Azure Resource Graph library\n",
    "import azure.mgmt.resourcegraph as arg\n",
    "import json\n",
    "\n",
    "# Wrap all the work in a function\n",
    "def getresources( strQuery,managementgroup=True ):\n",
    "    # Get your credentials from Azure CLI (development only!) and get your subscription list\n",
    "    credential = getCreds()\n",
    "\n",
    "    # Create Azure Resource Graph client and set options\n",
    "    argClient = arg.ResourceGraphClient(credential)\n",
    "    argQueryOptions = arg.models.QueryRequestOptions(result_format=\"objectArray\")\n",
    "\n",
    "    # Create query\n",
    "    if(managementgroup): \n",
    "        # SPN has to have permission on the Management Group\n",
    "        # Root management Group is always the tenant id\n",
    "        argQuery = arg.models.QueryRequest(management_groups=[tenant_id], query=strQuery, options=argQueryOptions)\n",
    "    else: #All subscriptions\n",
    "        subsList = getSubsList(credential)\n",
    "        argQuery = arg.models.QueryRequest(subscriptions=subsList, query=strQuery, options=argQueryOptions)\n",
    "\n",
    "    # Run query\n",
    "    argResults = argClient.resources(argQuery)\n",
    "\n",
    "    # Show Python object\n",
    "    print(json.dumps(argResults.data, indent=2))\n",
    "\n",
    "getresources(\"Resources | project name, type | limit 1\")"
   ]
  },
  {
   "cell_type": "code",
   "execution_count": null,
   "metadata": {},
   "outputs": [],
   "source": [
    "getresources(f\"\"\"\n",
    "\n",
    "resources\n",
    "| mv-expand ipConfigurations=properties.ipConfigurations\n",
    "| mv-expand ip=ipConfigurations.properties.privateIPAddress\n",
    "| where isnotnull(ip)\n",
    "| extend virtualMachineID=tostring(properties.virtualMachine.id)\n",
    "| join kind=leftouter (\n",
    "    resources\n",
    "    | where type =~ 'microsoft.compute/virtualmachines'\n",
    "    | project virtualMachineID = id,VM_Name=name,VM_resourceGroup=resourceGroup,VM_subscriptionId=subscriptionId,VM_type=type)\n",
    "    on virtualMachineID\n",
    "| project-away virtualMachineID1\n",
    "| join kind=leftouter(\n",
    "    resources\n",
    "    | project managedBy = id, PEndpoint_Name=name,PEndpoint_resourceGroup=resourceGroup,PEndpoint_subscriptionId=subscriptionId,PEndpoint_type=type)\n",
    "    on managedBy\n",
    "| project-away managedBy1\n",
    "| extend attachedto_id=coalesce(virtualMachineID,managedBy)\n",
    "| extend attachedto_Name=coalesce(VM_Name,PEndpoint_Name)\n",
    "| extend attachedto_resourceGroup=coalesce(VM_resourceGroup,PEndpoint_resourceGroup)\n",
    "| extend attachedto_subscriptionId=coalesce(VM_subscriptionId,PEndpoint_subscriptionId)\n",
    "| extend attachedto_type=coalesce(VM_type,PEndpoint_type)\n",
    "| project-away tenantId,kind,properties,sku,plan,tags,identity,zones,extendedLocation,ipConfigurations\n",
    "| project id,location,name,resourceGroup,subscriptionId,type,attachedto_id,attachedto_Name,attachedto_resourceGroup,attachedto_subscriptionId,attachedto_type\n",
    "//| project ['id'],type,virtualMachine,properties.ipConfigurations,ip\n",
    "\n",
    "\"\"\",False)"
   ]
  },
  {
   "cell_type": "markdown",
   "metadata": {},
   "source": [
    "# Graph\n",
    "[msgraph-sdk](https://pypi.org/project/msgraph-sdk/) \\\n",
    "[azure-cli-core](https://pypi.org/project/azure-cli-core/) \\\n",
    "[azure.identity](https://pypi.org/project/azure-identity/) \\\n",
    "[graph-explorer](https://developer.microsoft.com/en-us/graph/graph-explorer) \\\n",
    "\n"
   ]
  },
  {
   "cell_type": "code",
   "execution_count": null,
   "metadata": {
    "vscode": {
     "languageId": "powershell"
    }
   },
   "outputs": [],
   "source": [
    "pip install msgraph-sdk azure-cli-core azure.identity"
   ]
  },
  {
   "cell_type": "code",
   "execution_count": null,
   "metadata": {},
   "outputs": [],
   "source": [
    "from msgraph import GraphServiceClient\n",
    "\n",
    "def getGraphClient (credential,scopes = ['https://graph.microsoft.com/.default']):\n",
    "    client = GraphServiceClient(credentials=credential, scopes=scopes)\n",
    "    return client"
   ]
  },
  {
   "cell_type": "markdown",
   "metadata": {},
   "source": [
    "![Alt text](image.png)"
   ]
  },
  {
   "cell_type": "code",
   "execution_count": null,
   "metadata": {},
   "outputs": [],
   "source": [
    "\n",
    "credential = getCreds()\n",
    "client = getGraphClient(credential)\n",
    "\n",
    "users = await client.users.get()\n",
    "if users and users.value:\n",
    "        print(users.value)\n",
    "        for user in users.value:\n",
    "            print(user.id, user.display_name, user.mail)\n",
    "\n",
    "print(\"--------------------Groups------------------------\")\n",
    "groups = await client.groups.get()\n",
    "if groups and groups.value:\n",
    "        print(groups.value)\n",
    "        for group in groups.value:\n",
    "            print(group.id, group.display_name)\n",
    "\n",
    "print(\"--------------------devices------------------------\")\n",
    "devices = await client.devices.get()\n",
    "if devices and devices.value:\n",
    "        print(devices.value)\n",
    "        for device in devices.value:\n",
    "            print(device.id, device.display_name)   \n"
   ]
  }
 ],
 "metadata": {
  "kernelspec": {
   "display_name": "Python 3",
   "language": "python",
   "name": "python3"
  },
  "language_info": {
   "codemirror_mode": {
    "name": "ipython",
    "version": 3
   },
   "file_extension": ".py",
   "mimetype": "text/x-python",
   "name": "python",
   "nbconvert_exporter": "python",
   "pygments_lexer": "ipython3",
   "version": "3.10.11"
  }
 },
 "nbformat": 4,
 "nbformat_minor": 2
}
